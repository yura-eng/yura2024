{
  "nbformat": 4,
  "nbformat_minor": 0,
  "metadata": {
    "colab": {
      "provenance": [],
      "authorship_tag": "ABX9TyNRQDzqCMfM8A0oTw2DMo+Q",
      "include_colab_link": true
    },
    "kernelspec": {
      "name": "python3",
      "display_name": "Python 3"
    },
    "language_info": {
      "name": "python"
    }
  },
  "cells": [
    {
      "cell_type": "markdown",
      "metadata": {
        "id": "view-in-github",
        "colab_type": "text"
      },
      "source": [
        "<a href=\"https://colab.research.google.com/github/yura-eng/yura2024/blob/main/WorldCloud.ipynb\" target=\"_parent\"><img src=\"https://colab.research.google.com/assets/colab-badge.svg\" alt=\"Open In Colab\"/></a>"
      ]
    },
    {
      "cell_type": "code",
      "execution_count": null,
      "metadata": {
        "colab": {
          "base_uri": "https://localhost:8080/"
        },
        "id": "hoLjNrkaOpjw",
        "outputId": "cfaa77f6-7e95-455c-9ee5-bd81236b4fde"
      },
      "outputs": [
        {
          "output_type": "stream",
          "name": "stdout",
          "text": [
            "hello world\n"
          ]
        }
      ],
      "source": [
        "a = 'hello world'\n",
        "print (a)"
      ]
    },
    {
      "cell_type": "markdown",
      "source": [
        "#Worldcloud\n",
        "## practice\n",
        "### first:"
      ],
      "metadata": {
        "id": "4x3amm6jWkhA"
      }
    },
    {
      "cell_type": "code",
      "source": [
        "# Step 1: Install required libraries in Colab\n",
        "!pip install gradio wordcloud matplotlib\n",
        "\n",
        "# Step 2: Import the necessary libraries\n",
        "import gradio as gr\n",
        "from wordcloud import WordCloud\n",
        "import matplotlib.pyplot as plt\n",
        "import re\n",
        "import numpy as np\n",
        "from io import BytesIO\n",
        "from PIL import Image\n",
        "\n",
        "# Step 3: Define a function to create the word cloud\n",
        "def generate_wordcloud(text):\n",
        "    # Basic text cleaning: remove special characters and limit text size\n",
        "    text = re.sub(r'[^a-zA-Z\\s]', '', text)  # Remove special characters\n",
        "    if len(text) > 5000:  # Limit the length of the text to prevent errors\n",
        "        text = text[:5000]\n",
        "\n",
        "    try:\n",
        "        # Create a WordCloud object\n",
        "        wordcloud = WordCloud(width=800, height=400, background_color='white').generate(text)\n",
        "\n",
        "        # Convert the WordCloud to an image format that Gradio can display directly\n",
        "        image = wordcloud.to_image()\n",
        "        return image\n",
        "    except Exception as e:\n",
        "        print(f\"Error generating word cloud: {e}\")\n",
        "        return None\n",
        "\n",
        "# Step 4: Set up the Gradio interface\n",
        "interface = gr.Interface(fn=generate_wordcloud,\n",
        "                         inputs=\"text\",\n",
        "                         outputs=\"image\",\n",
        "                         title=\"Word Cloud Generator\",\n",
        "                         description=\"Enter some text to generate a word cloud of the most common words.\")\n",
        "\n",
        "# Step 5: Launch the app\n",
        "interface.launch()"
      ],
      "metadata": {
        "id": "3WFIKKn-WdVT"
      },
      "execution_count": null,
      "outputs": []
    },
    {
      "cell_type": "markdown",
      "source": [
        "#Sentence-by-sentence Read -Aloud practice\n"
      ],
      "metadata": {
        "id": "1o8JW1dPYa-C"
      }
    },
    {
      "cell_type": "code",
      "source": [
        "!pip install gradio gtts nltk pypng"
      ],
      "metadata": {
        "id": "_ruVy_1ZYNkp"
      },
      "execution_count": null,
      "outputs": []
    },
    {
      "cell_type": "code",
      "source": [
        "import gradio as gr\n",
        "from gtts import gTTS\n",
        "from nltk import tokenize\n",
        "import os\n",
        "\n",
        "# Import necessary nltk libraries\n",
        "import nltk\n",
        "nltk.download('punkt')\n",
        "\n",
        "# Global variable to store sentences and the entire text\n",
        "sentences = []\n",
        "full_text = \"\"\n",
        "\n",
        "# Function to process text and generate sentence options\n",
        "def process_text(mytext):\n",
        "    global sentences, full_text\n",
        "    full_text = mytext\n",
        "    sentences = tokenize.sent_tokenize(mytext)\n",
        "    choices = [\"Play the whole text\"] + [f\"{i + 1}. {s}\" for i, s in enumerate(sentences)]\n",
        "    return choices\n",
        "\n",
        "# Function to generate audio for the selected item\n",
        "def generate_audio(selected_item):\n",
        "    global full_text\n",
        "\n",
        "    if not selected_item:\n",
        "        return None\n",
        "\n",
        "    if selected_item == \"Play the whole text\":\n",
        "        tts = gTTS(text=full_text, lang='en')\n",
        "        audio_path = 'full_text.mp3'\n",
        "        tts.save(audio_path)\n",
        "        return audio_path\n",
        "\n",
        "    index = int(selected_item.split('.')[0]) - 1  # Adjust for 0-based index\n",
        "\n",
        "    if 0 <= index < len(sentences):\n",
        "        sentence = sentences[index]\n",
        "        tts = gTTS(text=sentence, lang='en')\n",
        "        audio_path = f'sentence_{index + 1}.mp3'\n",
        "        tts.save(audio_path)\n",
        "        return audio_path\n",
        "    else:\n",
        "        return None\n",
        "\n",
        "# Function to update dropdown choices based on text input\n",
        "def update_dropdown(mytext):\n",
        "    choices = process_text(mytext)\n",
        "    return gr.update(choices=choices)\n",
        "\n",
        "# Create a Gradio Blocks app\n",
        "with gr.Blocks() as app:\n",
        "    with gr.Row():\n",
        "        textbox = gr.Textbox(label=\"Enter your text here\")\n",
        "    with gr.Row():\n",
        "        submit_button = gr.Button(\"Submit\")\n",
        "    with gr.Row():\n",
        "        dropdown = gr.Dropdown(choices=[], label=\"Select Sentence\")\n",
        "    with gr.Row():\n",
        "        audio_output = gr.Audio(label=\"Audio of Selected Sentence\")\n",
        "\n",
        "    submit_button.click(fn=update_dropdown, inputs=textbox, outputs=dropdown)\n",
        "    dropdown.change(fn=generate_audio, inputs=dropdown, outputs=audio_output)\n",
        "\n",
        "app.launch()"
      ],
      "metadata": {
        "id": "kLxGKS6hYVLi"
      },
      "execution_count": null,
      "outputs": []
    }
  ]
}